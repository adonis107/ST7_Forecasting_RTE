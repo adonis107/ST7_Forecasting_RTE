{
 "cells": [
  {
   "cell_type": "code",
   "execution_count": 5,
   "metadata": {},
   "outputs": [],
   "source": [
    "import pandas as pd\n",
    "import numpy as np\n",
    "import matplotlib.pyplot as plt\n",
    "import tensorflow as tf\n",
    "import keras\n",
    "from keras import layers\n",
    "from keras.models import Sequential\n",
    "from keras.layers import Dense\n",
    "from sklearn.model_selection import train_test_split\n",
    "from sklearn.preprocessing import StandardScaler\n",
    "\n",
    "path = \"./data/all_data.csv\"\n",
    "df = pd.read_csv(path)"
   ]
  },
  {
   "cell_type": "code",
   "execution_count": 6,
   "metadata": {},
   "outputs": [
    {
     "data": {
      "text/html": [
       "<div>\n",
       "<style scoped>\n",
       "    .dataframe tbody tr th:only-of-type {\n",
       "        vertical-align: middle;\n",
       "    }\n",
       "\n",
       "    .dataframe tbody tr th {\n",
       "        vertical-align: top;\n",
       "    }\n",
       "\n",
       "    .dataframe thead th {\n",
       "        text-align: right;\n",
       "    }\n",
       "</style>\n",
       "<table border=\"1\" class=\"dataframe\">\n",
       "  <thead>\n",
       "    <tr style=\"text-align: right;\">\n",
       "      <th></th>\n",
       "      <th>Unnamed: 0</th>\n",
       "      <th>Perimetre</th>\n",
       "      <th>Nature</th>\n",
       "      <th>Date</th>\n",
       "      <th>Heures</th>\n",
       "      <th>y</th>\n",
       "      <th>Thermique</th>\n",
       "      <th>Nucleaire</th>\n",
       "      <th>Eolien</th>\n",
       "      <th>Solaire</th>\n",
       "      <th>Hydraulique</th>\n",
       "      <th>Pompage</th>\n",
       "      <th>Bioenergies</th>\n",
       "      <th>Ech. physiques</th>\n",
       "    </tr>\n",
       "  </thead>\n",
       "  <tbody>\n",
       "    <tr>\n",
       "      <th>0</th>\n",
       "      <td>0</td>\n",
       "      <td>Ile-de-France</td>\n",
       "      <td>Donn�es d�finitives</td>\n",
       "      <td>2016-01-01</td>\n",
       "      <td>00:00</td>\n",
       "      <td>8885.0</td>\n",
       "      <td>293.0</td>\n",
       "      <td>-</td>\n",
       "      <td>18.0</td>\n",
       "      <td>0.0</td>\n",
       "      <td>10.0</td>\n",
       "      <td>-</td>\n",
       "      <td>137.0</td>\n",
       "      <td>8428.0</td>\n",
       "    </tr>\n",
       "    <tr>\n",
       "      <th>1</th>\n",
       "      <td>1</td>\n",
       "      <td>Ile-de-France</td>\n",
       "      <td>Donn�es d�finitives</td>\n",
       "      <td>2016-01-01</td>\n",
       "      <td>00:15</td>\n",
       "      <td>NaN</td>\n",
       "      <td>NaN</td>\n",
       "      <td>NaN</td>\n",
       "      <td>NaN</td>\n",
       "      <td>NaN</td>\n",
       "      <td>NaN</td>\n",
       "      <td>NaN</td>\n",
       "      <td>NaN</td>\n",
       "      <td>NaN</td>\n",
       "    </tr>\n",
       "    <tr>\n",
       "      <th>2</th>\n",
       "      <td>2</td>\n",
       "      <td>Ile-de-France</td>\n",
       "      <td>Donn�es d�finitives</td>\n",
       "      <td>2016-01-01</td>\n",
       "      <td>00:30</td>\n",
       "      <td>8709.0</td>\n",
       "      <td>309.0</td>\n",
       "      <td>-</td>\n",
       "      <td>16.0</td>\n",
       "      <td>0.0</td>\n",
       "      <td>10.0</td>\n",
       "      <td>-</td>\n",
       "      <td>148.0</td>\n",
       "      <td>8226.0</td>\n",
       "    </tr>\n",
       "    <tr>\n",
       "      <th>3</th>\n",
       "      <td>3</td>\n",
       "      <td>Ile-de-France</td>\n",
       "      <td>Donn�es d�finitives</td>\n",
       "      <td>2016-01-01</td>\n",
       "      <td>00:45</td>\n",
       "      <td>NaN</td>\n",
       "      <td>NaN</td>\n",
       "      <td>NaN</td>\n",
       "      <td>NaN</td>\n",
       "      <td>NaN</td>\n",
       "      <td>NaN</td>\n",
       "      <td>NaN</td>\n",
       "      <td>NaN</td>\n",
       "      <td>NaN</td>\n",
       "    </tr>\n",
       "    <tr>\n",
       "      <th>4</th>\n",
       "      <td>4</td>\n",
       "      <td>Ile-de-France</td>\n",
       "      <td>Donn�es d�finitives</td>\n",
       "      <td>2016-01-01</td>\n",
       "      <td>01:00</td>\n",
       "      <td>8343.0</td>\n",
       "      <td>309.0</td>\n",
       "      <td>-</td>\n",
       "      <td>13.0</td>\n",
       "      <td>0.0</td>\n",
       "      <td>10.0</td>\n",
       "      <td>-</td>\n",
       "      <td>149.0</td>\n",
       "      <td>7864.0</td>\n",
       "    </tr>\n",
       "  </tbody>\n",
       "</table>\n",
       "</div>"
      ],
      "text/plain": [
       "   Unnamed: 0      Perimetre               Nature        Date Heures       y  \\\n",
       "0           0  Ile-de-France  Donn�es d�finitives  2016-01-01  00:00  8885.0   \n",
       "1           1  Ile-de-France  Donn�es d�finitives  2016-01-01  00:15     NaN   \n",
       "2           2  Ile-de-France  Donn�es d�finitives  2016-01-01  00:30  8709.0   \n",
       "3           3  Ile-de-France  Donn�es d�finitives  2016-01-01  00:45     NaN   \n",
       "4           4  Ile-de-France  Donn�es d�finitives  2016-01-01  01:00  8343.0   \n",
       "\n",
       "   Thermique Nucleaire  Eolien  Solaire  Hydraulique Pompage  Bioenergies  \\\n",
       "0      293.0         -    18.0      0.0         10.0       -        137.0   \n",
       "1        NaN       NaN     NaN      NaN          NaN     NaN          NaN   \n",
       "2      309.0         -    16.0      0.0         10.0       -        148.0   \n",
       "3        NaN       NaN     NaN      NaN          NaN     NaN          NaN   \n",
       "4      309.0         -    13.0      0.0         10.0       -        149.0   \n",
       "\n",
       "   Ech. physiques  \n",
       "0          8428.0  \n",
       "1             NaN  \n",
       "2          8226.0  \n",
       "3             NaN  \n",
       "4          7864.0  "
      ]
     },
     "execution_count": 6,
     "metadata": {},
     "output_type": "execute_result"
    }
   ],
   "source": [
    "df.head()"
   ]
  },
  {
   "cell_type": "code",
   "execution_count": 7,
   "metadata": {},
   "outputs": [
    {
     "data": {
      "text/plain": [
       "[<matplotlib.lines.Line2D at 0x1821c9a27a0>]"
      ]
     },
     "execution_count": 7,
     "metadata": {},
     "output_type": "execute_result"
    },
    {
     "data": {
      "image/png": "[encoded data removed]",
      "text/plain": [
       "<Figure size 640x480 with 1 Axes>"
      ]
     },
     "metadata": {},
     "output_type": "display_data"
    }
   ],
   "source": [
    "df_cons = df[[\"y\"]]\n",
    "df_cons = df_cons.dropna()\n",
    "\n",
    "plt.plot(df_cons)"
   ]
  }
 ],
 "metadata": {
  "kernelspec": {
   "display_name": "Python 3",
   "language": "python",
   "name": "python3"
  },
  "language_info": {
   "codemirror_mode": {
    "name": "ipython",
    "version": 3
   },
   "file_extension": ".py",
   "mimetype": "text/x-python",
   "name": "python",
   "nbconvert_exporter": "python",
   "pygments_lexer": "ipython3",
   "version": "3.10.7"
  }
 },
 "nbformat": 4,
 "nbformat_minor": 2
}
