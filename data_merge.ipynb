{
 "cells": [
  {
   "cell_type": "code",
   "execution_count": 78,
   "metadata": {},
   "outputs": [],
   "source": [
    "import pandas as pd\n",
    "import os\n",
    "from zipfile import ZipFile\n",
    "import glob\n",
    "\n",
    "# path = \"data.zip\"\n",
    "# with ZipFile(path) as zObject: \n",
    "#     zObject.extractall()"
   ]
  },
  {
   "cell_type": "code",
   "execution_count": 79,
   "metadata": {},
   "outputs": [],
   "source": [
    "cols = [\"Perimetre\", \"Nature\", \"Date\", \"Heures\", \"y\", \"Thermique\", \"Nucleaire\", \"Eolien\", \"Solaire\", \"Hydraulique\", \"Pompage\", \"Bioenergies\", \"Ech. physiques\"]"
   ]
  },
  {
   "cell_type": "code",
   "execution_count": 83,
   "metadata": {},
   "outputs": [
    {
     "name": "stderr",
     "output_type": "stream",
     "text": [
      "C:\\Users\\Max\\AppData\\Local\\Temp\\ipykernel_26236\\3324696664.py:3: ParserWarning: Length of header or names does not match length of data. This leads to a loss of data with index_col=False.\n",
      "  df = pd.concat((pd.read_csv(f, names = cols,sep='\\t', skiprows=1, index_col=False)) for f in all_files)\n",
      "C:\\Users\\Max\\AppData\\Local\\Temp\\ipykernel_26236\\3324696664.py:3: ParserWarning: Length of header or names does not match length of data. This leads to a loss of data with index_col=False.\n",
      "  df = pd.concat((pd.read_csv(f, names = cols,sep='\\t', skiprows=1, index_col=False)) for f in all_files)\n"
     ]
    }
   ],
   "source": [
    "path = \"data\"\n",
    "all_files = glob.glob(os.path.join(path, \"*.xls\"))\n",
    "df = pd.concat((pd.read_csv(f, names = cols,sep='\\t', skiprows=1, index_col=False)) for f in all_files)\n"
   ]
  },
  {
   "cell_type": "code",
   "execution_count": 85,
   "metadata": {},
   "outputs": [],
   "source": [
    "df.to_csv(\"all_data.csv\")"
   ]
  }
 ],
 "metadata": {
  "kernelspec": {
   "display_name": "Python 3",
   "language": "python",
   "name": "python3"
  },
  "language_info": {
   "codemirror_mode": {
    "name": "ipython",
    "version": 3
   },
   "file_extension": ".py",
   "mimetype": "text/x-python",
   "name": "python",
   "nbconvert_exporter": "python",
   "pygments_lexer": "ipython3",
   "version": "3.10.7"
  }
 },
 "nbformat": 4,
 "nbformat_minor": 2
}
