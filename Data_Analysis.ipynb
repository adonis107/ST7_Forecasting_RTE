{
 "cells": [
  {
   "cell_type": "code",
   "execution_count": 60,
   "metadata": {},
   "outputs": [],
   "source": [
    "import pandas as pd\n",
    "import glob\n",
    "import os"
   ]
  },
  {
   "cell_type": "code",
   "execution_count": 104,
   "metadata": {},
   "outputs": [],
   "source": [
    "cols = [\"Perimetre\", \"Nature\", \"Date\", \"Heures\", \"y\", \"Thermique\", \"Nucleaire\", \"Eolien\", \"Solaire\", \"Hydraulique\", \"Pompage\", \"Bioenergies\", \"Ech. physiques\"]"
   ]
  },
  {
   "cell_type": "code",
   "execution_count": 107,
   "metadata": {},
   "outputs": [
    {
     "name": "stderr",
     "output_type": "stream",
     "text": [
      "C:\\Users\\adoni\\AppData\\Local\\Temp\\ipykernel_7244\\3048580376.py:3: ParserWarning:\n",
      "\n",
      "Length of header or names does not match length of data. This leads to a loss of data with index_col=False.\n",
      "\n",
      "C:\\Users\\adoni\\AppData\\Local\\Temp\\ipykernel_7244\\3048580376.py:3: ParserWarning:\n",
      "\n",
      "Length of header or names does not match length of data. This leads to a loss of data with index_col=False.\n",
      "\n"
     ]
    }
   ],
   "source": [
    "path = \"data\"\n",
    "all_files = glob.glob(os.path.join(path, \"*.xls\"))\n",
    "df = pd.concat((pd.read_csv(f, names=cols, sep='\\t', skiprows=1, index_col=False) for f in all_files))"
   ]
  },
  {
   "cell_type": "code",
   "execution_count": 109,
   "metadata": {},
   "outputs": [],
   "source": [
    "df.drop(columns=[\"Perimetre\", \"Nature\"], inplace=True)\n"
   ]
  },
  {
   "cell_type": "code",
   "execution_count": 110,
   "metadata": {},
   "outputs": [
    {
     "data": {
      "text/html": [
       "<div>\n",
       "<style scoped>\n",
       "    .dataframe tbody tr th:only-of-type {\n",
       "        vertical-align: middle;\n",
       "    }\n",
       "\n",
       "    .dataframe tbody tr th {\n",
       "        vertical-align: top;\n",
       "    }\n",
       "\n",
       "    .dataframe thead th {\n",
       "        text-align: right;\n",
       "    }\n",
       "</style>\n",
       "<table border=\"1\" class=\"dataframe\">\n",
       "  <thead>\n",
       "    <tr style=\"text-align: right;\">\n",
       "      <th></th>\n",
       "      <th>Date</th>\n",
       "      <th>Heures</th>\n",
       "      <th>y</th>\n",
       "      <th>Thermique</th>\n",
       "      <th>Nucleaire</th>\n",
       "      <th>Eolien</th>\n",
       "      <th>Solaire</th>\n",
       "      <th>Hydraulique</th>\n",
       "      <th>Pompage</th>\n",
       "      <th>Bioenergies</th>\n",
       "      <th>Ech. physiques</th>\n",
       "    </tr>\n",
       "  </thead>\n",
       "  <tbody>\n",
       "    <tr>\n",
       "      <th>0</th>\n",
       "      <td>2016-01-01</td>\n",
       "      <td>00:00</td>\n",
       "      <td>8885.0</td>\n",
       "      <td>293.0</td>\n",
       "      <td>-</td>\n",
       "      <td>18.0</td>\n",
       "      <td>0.0</td>\n",
       "      <td>10.0</td>\n",
       "      <td>-</td>\n",
       "      <td>137.0</td>\n",
       "      <td>8428.0</td>\n",
       "    </tr>\n",
       "    <tr>\n",
       "      <th>1</th>\n",
       "      <td>2016-01-01</td>\n",
       "      <td>00:15</td>\n",
       "      <td>NaN</td>\n",
       "      <td>NaN</td>\n",
       "      <td>NaN</td>\n",
       "      <td>NaN</td>\n",
       "      <td>NaN</td>\n",
       "      <td>NaN</td>\n",
       "      <td>NaN</td>\n",
       "      <td>NaN</td>\n",
       "      <td>NaN</td>\n",
       "    </tr>\n",
       "    <tr>\n",
       "      <th>2</th>\n",
       "      <td>2016-01-01</td>\n",
       "      <td>00:30</td>\n",
       "      <td>8709.0</td>\n",
       "      <td>309.0</td>\n",
       "      <td>-</td>\n",
       "      <td>16.0</td>\n",
       "      <td>0.0</td>\n",
       "      <td>10.0</td>\n",
       "      <td>-</td>\n",
       "      <td>148.0</td>\n",
       "      <td>8226.0</td>\n",
       "    </tr>\n",
       "    <tr>\n",
       "      <th>3</th>\n",
       "      <td>2016-01-01</td>\n",
       "      <td>00:45</td>\n",
       "      <td>NaN</td>\n",
       "      <td>NaN</td>\n",
       "      <td>NaN</td>\n",
       "      <td>NaN</td>\n",
       "      <td>NaN</td>\n",
       "      <td>NaN</td>\n",
       "      <td>NaN</td>\n",
       "      <td>NaN</td>\n",
       "      <td>NaN</td>\n",
       "    </tr>\n",
       "    <tr>\n",
       "      <th>4</th>\n",
       "      <td>2016-01-01</td>\n",
       "      <td>01:00</td>\n",
       "      <td>8343.0</td>\n",
       "      <td>309.0</td>\n",
       "      <td>-</td>\n",
       "      <td>13.0</td>\n",
       "      <td>0.0</td>\n",
       "      <td>10.0</td>\n",
       "      <td>-</td>\n",
       "      <td>149.0</td>\n",
       "      <td>7864.0</td>\n",
       "    </tr>\n",
       "  </tbody>\n",
       "</table>\n",
       "</div>"
      ],
      "text/plain": [
       "         Date Heures       y  Thermique Nucleaire  Eolien  Solaire  \\\n",
       "0  2016-01-01  00:00  8885.0      293.0         -    18.0      0.0   \n",
       "1  2016-01-01  00:15     NaN        NaN       NaN     NaN      NaN   \n",
       "2  2016-01-01  00:30  8709.0      309.0         -    16.0      0.0   \n",
       "3  2016-01-01  00:45     NaN        NaN       NaN     NaN      NaN   \n",
       "4  2016-01-01  01:00  8343.0      309.0         -    13.0      0.0   \n",
       "\n",
       "   Hydraulique Pompage  Bioenergies  Ech. physiques  \n",
       "0         10.0       -        137.0          8428.0  \n",
       "1          NaN     NaN          NaN             NaN  \n",
       "2         10.0       -        148.0          8226.0  \n",
       "3          NaN     NaN          NaN             NaN  \n",
       "4         10.0       -        149.0          7864.0  "
      ]
     },
     "execution_count": 110,
     "metadata": {},
     "output_type": "execute_result"
    }
   ],
   "source": [
    "df.head()"
   ]
  },
  {
   "cell_type": "code",
   "execution_count": 111,
   "metadata": {},
   "outputs": [
    {
     "name": "stdout",
     "output_type": "stream",
     "text": [
      "Date 1827\n",
      "Heures 96\n",
      "y 9683\n",
      "Thermique 1883\n",
      "Nucleaire 1\n",
      "Eolien 106\n",
      "Solaire 108\n",
      "Hydraulique 16\n",
      "Pompage 1\n",
      "Bioenergies 146\n",
      "Ech. physiques 8840\n"
     ]
    }
   ],
   "source": [
    "for column in df.columns:\n",
    "    print(column, df[column].nunique())"
   ]
  }
 ],
 "metadata": {
  "kernelspec": {
   "display_name": "Python 3",
   "language": "python",
   "name": "python3"
  },
  "language_info": {
   "codemirror_mode": {
    "name": "ipython",
    "version": 3
   },
   "file_extension": ".py",
   "mimetype": "text/x-python",
   "name": "python",
   "nbconvert_exporter": "python",
   "pygments_lexer": "ipython3",
   "version": "3.10.5"
  }
 },
 "nbformat": 4,
 "nbformat_minor": 2
}
